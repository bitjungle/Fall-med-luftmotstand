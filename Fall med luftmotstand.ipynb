{
 "cells": [
  {
   "cell_type": "markdown",
   "id": "063b21ab-a5f7-4bdd-9bf4-2e5dbe791376",
   "metadata": {},
   "source": [
    "###### Copyright (C) 2021 BITJUNGLE Rune Mathisen <rune@bitjungle.org>\n",
    "###### Denne koden har en [GPLv3 lisens](http://www.gnu.org/licenses/gpl-3.0.html)."
   ]
  },
  {
   "cell_type": "markdown",
   "id": "a04ba7e3-2d2e-459b-a35b-876e19df470b",
   "metadata": {},
   "source": [
    "# Fall med luftmotstand: modellering, simulering og forsøk\n",
    "\n",
    "**Dette er et undervisningsopplegg for elever som tar faget [Programmering og modellering X](https://www.udir.no/lk20/prm01-02) på videregående skole.**\n",
    "\n",
    "## Forutsetninger\n",
    "\n",
    "Før arbeidet med dette prosjektet starter bør elevene å fått en grunndig innføring i hva differensiallikninger er, og hvordan disse kan brukes. De bør også kunne bruke Eulers metode for å finne numeriske løsninger til ordinære differensialligninger.\n",
    "\n",
    "## Tidsbruk\n",
    "\n",
    "Arbeidet med dette prosjektet bør gå over minst 4 uker. Elevene skal selv utvikle modellen som brukes, med minst mulig hjelp fra læreren. Så skal de programmere en simulering, og bruke denne simuleringen når de designer forsøket. Så skal det gjennomføres forsøk, og til slutt skal data fra forsøket sammenliknes med simuleringer. Elevene bør få god tid til å jobbe grundig med alt dette.\n"
   ]
  },
  {
   "cell_type": "markdown",
   "id": "f38dab5f-1c8b-4370-800d-5797bdb1c627",
   "metadata": {},
   "source": [
    "---"
   ]
  },
  {
   "cell_type": "markdown",
   "id": "70dcb9e2-74f6-499c-a010-35e86ac91121",
   "metadata": {},
   "source": [
    "# Oppgavetekst til elevene\n",
    "\n",
    "**Hvordan oppfører et objekt seg når det faller? Denne oppgava krever en del arbeid. Du må lage en matematisk modell for et objekt i fall med luftmotstand, og så skal du bruke denne modellen til å gjøre datasimuleringer. Til slutt skal du gjennomføre forsøk for å verifisere modellen din.**"
   ]
  },
  {
   "cell_type": "markdown",
   "id": "386dc956-4205-437f-af6d-88ab74f74d84",
   "metadata": {},
   "source": [
    "## Modellering\n",
    "\n",
    "Lag en matematisk modell som får med seg kreftene $F$ som virker på objektet i to retninger, rett opp og rett ned. Det er tyngdekraften $G$ og luftmotstanden $L$. De to kreftene er motsatt retta. Summen av de to kreftene blir da $F=G-L$. Se [denne gode videoen](https://www.youtube.com/watch?v=Oy-4mPro3w8) for å sette deg grundig inn i problemstillinga. For $L$ kan du bruke [denne likninga for luftmotstand](https://en.wikipedia.org/wiki/Drag_equation). Sett opp modellen som en differensiallikning $\\frac{dv}{dt}$. "
   ]
  },
  {
   "cell_type": "markdown",
   "id": "24db295c-ecdd-41fa-9fc4-52f23df903e7",
   "metadata": {},
   "source": [
    "## Simulering\n",
    "\n",
    "Bruk [Eulers metode](https://github.com/fagstoff/ProgMod/blob/master/Fagstoff/euler.ipynb) for å løse differensiallikninga du har laget. Nå er oppgava å finne ut om det er mulig å gjennomføre et forsøk hvor et objekt når [terminalfarten](https://no.wikipedia.org/wiki/Terminalfart). \n",
    "\n",
    "Du kan starte med å finne et egnet sted for å gjennomføre et forsøk med fall. Det bør helst være så høyt som mulig, men samtidig må det gå an å gjennomføre forsøket på en helt trygg måte. Det må ikke være fare for at noen personer faller utfor, og det må ikke være noen fare for at personer eller gjenstander kan bli truffet og skadet av det fallende objektet.\n",
    "\n",
    "Når du har funnet et passende sted og anslått fallhøyda, skal du bruke modellen til å kjøre simuleringer med objekter som har varierende masse, form og [areal](https://en.wikipedia.org/wiki/Drag_coefficient). Går det an å utforme et objekt som vil oppnå terminalfart i den fallhøyda du har tilgjengelig?"
   ]
  },
  {
   "cell_type": "markdown",
   "id": "65ac9de1-76c4-47ba-aafc-85cfa924d9ee",
   "metadata": {},
   "source": [
    "## Forsøk\n",
    "\n",
    "Nå har du gjennomført simuleringer for å designe et objekt som kommer så nær opptil terminalfart som mulig innenfor den fallhøyda du har tilgjengelig. Lag objektet, og bygg inn sensorer som kan brukes for å måle hastighet eller akselerasjon gjennom hele fallet. En mulighet er å bruke [to micro:bits som du kobler sammen slik at du får logget akselerasjonen](https://microbit.org/projects/make-it-code-it/python-wireless-data-logger/?editor=python) gjennom hele fallet.\n",
    "\n",
    "Analyser dataene du samler inn, og sjekk hvor godt det stemmer overens med simuleringene. Dersom det er store avvik må du forsøke å finne ut hvor den største feilkilden er. Om det bare er mindre avvik kan du vurdere om du skal justere [drag-koeffisienten](https://en.wikipedia.org/wiki/Drag_coefficient)."
   ]
  },
  {
   "cell_type": "markdown",
   "id": "db6becfb-ff94-4ea2-b065-011d6fe3c9fe",
   "metadata": {},
   "source": [
    "---"
   ]
  },
  {
   "cell_type": "markdown",
   "id": "493e543f-4790-45e9-8d7a-41305247b3a1",
   "metadata": {},
   "source": [
    "# Løsningsforslag"
   ]
  },
  {
   "cell_type": "markdown",
   "id": "4e669029-5a1f-479b-b7bb-be1258101e35",
   "metadata": {},
   "source": [
    "## Modell for fall med luftmotstand.\n",
    "\n",
    "Tar utgangspunkt i Newtons andre lov:\n",
    "\n",
    "$$ \\sum F = m \\cdot a $$\n",
    "\n",
    "Summen av kreftene er her gravitasjonskrafta minus drag-krafta. Vi antar at det ikke virker noen andre krefter på objektet, og at $F_G$ og $F_D$ er motsatt retta:\n",
    "\n",
    "$$ \\sum F = F_G - F_D $$\n",
    "\n",
    "Gravitasjonskrafta $F_G$ er gitt ved:\n",
    "\n",
    "$$ F_G = m \\cdot g$$\n",
    "\n",
    "Drag-krafta $F_D$ kan uttrykkes ved drag-likningen:\n",
    "\n",
    "$$ F_D = \\frac{1}{2} \\cdot c_d  \\cdot \\rho  \\cdot A \\cdot v^2 $$\n",
    "\n",
    "Vi kan nå sette opp:\n",
    "\n",
    "$$ \n",
    "\\sum F = F_G - F_D \n",
    "$$\n",
    "$$\n",
    "m  \\cdot \\sum a = m \\cdot g - \\frac{1}{2} \\cdot c_d  \\cdot \\rho  \\cdot A \\cdot v^2 \n",
    "$$\n",
    "\n",
    "Dividerer med $m$ på begge sider:\n",
    "\n",
    "$$\n",
    "\\sum a = g - \\frac{1}{2m} \\cdot c_d  \\cdot \\rho  \\cdot A \\cdot v^2 \n",
    "$$\n",
    "\n",
    "For å forenkle problemstillinga antar vi at objektet vårt ikke roterer, og at det bare akselererer i en retning (mot bakken). Vi vet at akselerasjonen $a$ kan skrives som:\n",
    "\n",
    "$$ a = \\frac{dv}{dt} $$\n",
    "\n",
    "Setter dette inn i modellen vår og får differensiallikningen:\n",
    "\n",
    "$$\n",
    "\\frac{dv}{dt} = g - \\frac{1}{2m} \\cdot c_d  \\cdot \\rho  \\cdot A \\cdot v^2 \\\\\n",
    "$$\n"
   ]
  },
  {
   "cell_type": "markdown",
   "id": "471a49fc-2d46-4f40-8599-ccc90e6cac4b",
   "metadata": {},
   "source": [
    "## Implementering i Python\n",
    "\n",
    "Ut fra det overstående kan vi nå implementere modellen i Python. Setter først opp en del konstanter. Disse kan endres for å simulere ulike objekter som faller fra ulike høyder."
   ]
  },
  {
   "cell_type": "code",
   "execution_count": 1,
   "id": "5c57a4f6-22ee-49e5-b868-2c4120550cac",
   "metadata": {},
   "outputs": [],
   "source": [
    "# --- Konstanter\n",
    "g = 9.81    # m/s^2 - tyngdeakselerasjonen\n",
    "m = 0.047   # kg    - massen til objektet som faller\n",
    "cd = 1.05   # kg/m  - objektets drag-koeffisient (kube)\n",
    "v0 = 0.0    # m/s   - objektets startfart\n",
    "dt = 0.01   # s     - tidsintervall for beregninger (tidsskritt)\n",
    "h0 = 30.0   # m     - fallhøyde\n",
    "A = 0.0064  # m^2   - objektets areal i fallretning\n",
    "rho = 1.2   # kg/m³ - tetthet til luft"
   ]
  },
  {
   "cell_type": "markdown",
   "id": "21f64019-1012-4856-8575-88c29df552e5",
   "metadata": {},
   "source": [
    "Når vi skal løse differensiallikninger er vi avhengig av å ha startverdier. Vi skal lagre alle beregnede verdier for fallet i lister, og legger startverdier inn som første verdi i listene."
   ]
  },
  {
   "cell_type": "code",
   "execution_count": 2,
   "id": "f49dfd06-fa61-447d-ab22-bbc5d4821534",
   "metadata": {},
   "outputs": [],
   "source": [
    "# --- Lister med startverdier\n",
    "v = [v0]  # fart\n",
    "h = [h0]  # høyde\n",
    "t = [0]   # tid\n",
    "a = [g]   # akselerasjon"
   ]
  },
  {
   "cell_type": "markdown",
   "id": "aff94b09-f384-4ff9-8250-f19bce35714e",
   "metadata": {},
   "source": [
    "Så må vi definere funsjonen som inneholder differensiallikningen, og en funksjon som regner ut objektets høyde over bakken."
   ]
  },
  {
   "cell_type": "code",
   "execution_count": 3,
   "id": "2baf327e-a84f-4a50-9bfd-b0ff19f99e9d",
   "metadata": {},
   "outputs": [],
   "source": [
    "def speed(v):\n",
    "    '''Bruker Eulers metode for å estimere ny fart'''\n",
    "    return v + (g - (1/(2*m)*cd * rho * A * v**2)) * dt\n",
    "\n",
    "def height(h, v):\n",
    "    '''Beregner ny høyde ut fra forrige høyde, fart og tidsskritt'''\n",
    "    return h - v*dt "
   ]
  },
  {
   "cell_type": "markdown",
   "id": "24b5c16b-072b-45b1-9b74-149e6fa92b2d",
   "metadata": {},
   "source": [
    "Vi leter etter tidspunktet hvor fartsendring er nær 0, altså det punktet hvor objektet har nådd maksimal hastighet i retning nedover mot bakken. Lager en boolsk variabel som holder styr på om vi fortsatt leter, eller om vi har funnet denne hastigheten."
   ]
  },
  {
   "cell_type": "code",
   "execution_count": 4,
   "id": "4f4b9f6f-ab1a-49a4-91e7-723703ce3c08",
   "metadata": {},
   "outputs": [],
   "source": [
    "searching = True # Vi leter etter fartsending nær 0\n",
    "threshold = 1E-3 # Når fartsendringa er så liten, så stopper vi"
   ]
  },
  {
   "cell_type": "markdown",
   "id": "c43230d3-a6f5-4a9e-a751-c393c62b7e27",
   "metadata": {},
   "source": [
    "Nå kjører vi beregninger helt fram til vi treffer bakken."
   ]
  },
  {
   "cell_type": "code",
   "execution_count": 5,
   "id": "057a9ff3-4348-47b9-89f5-c3cf72bac78b",
   "metadata": {},
   "outputs": [
    {
     "name": "stdout",
     "output_type": "stream",
     "text": [
      "Konstant fart ved t = 3.2 og h = 3.3\n"
     ]
    }
   ],
   "source": [
    "while h[-1] > 0: # Kjør beregninger fram til vi treffer bakken\n",
    "    v.append(speed(v[-1]))\n",
    "    h.append(height(h[-1], v[-1]))\n",
    "    t.append(t[-1] + dt)\n",
    "    a.append((-1)*(v[-2] - v[-1])/dt) \n",
    "    if searching and abs(v[-2] - v[-1]) < threshold:\n",
    "        # Fartsendring er nær 0\n",
    "        print('Konstant fart ved t =', round(t[-1], 1), 'og h =', round(h[-1], 1))\n",
    "        searching = False"
   ]
  },
  {
   "cell_type": "markdown",
   "id": "e283fb25-caf0-4b8d-bab6-b6d8768ad848",
   "metadata": {},
   "source": [
    "La oss plotte resultatet, og se hvordan det ser ut."
   ]
  },
  {
   "cell_type": "code",
   "execution_count": 6,
   "id": "0683a9ef-d6d3-4698-a5a0-7196874c9469",
   "metadata": {},
   "outputs": [
    {
     "data": {
      "image/png": "[encoded data removed]",
      "text/plain": [
       "<Figure size 432x288 with 2 Axes>"
      ]
     },
     "metadata": {
      "needs_background": "light"
     },
     "output_type": "display_data"
    }
   ],
   "source": [
    "import matplotlib.pyplot as plt \n",
    "\n",
    "fig, ax1 = plt.subplots()\n",
    "\n",
    "color = 'tab:red'\n",
    "ax1.set_xlabel('tid (s)')\n",
    "ax1.set_ylabel('hastighet (m/s) og aksel. (m/s^2)', color=color)\n",
    "ax1.plot(t, v, color=color, label=\"hastighet\")\n",
    "ax1.plot(t, a, 'r--', label=\"akselerasjon\")\n",
    "plt.legend()\n",
    "ax1.tick_params(axis='y', labelcolor=color)\n",
    "\n",
    "ax2 = ax1.twinx()# to y-akser med felles x-akse\n",
    "\n",
    "color = 'tab:blue'\n",
    "ax2.set_ylabel('høyde (m)', color=color)\n",
    "ax2.plot(t, h, color=color, label=\"høyde\")\n",
    "ax2.tick_params(axis='y', labelcolor=color)\n",
    "\n",
    "ax1.grid(axis='x')\n",
    "plt.title('m = {} kg'.format(m))\n",
    "fig.tight_layout()\n",
    "plt.show()"
   ]
  },
  {
   "cell_type": "code",
   "execution_count": 7,
   "id": "4137c9d1-6fce-4560-846b-688a75aa775f",
   "metadata": {},
   "outputs": [
    {
     "name": "stdout",
     "output_type": "stream",
     "text": [
      "Sluttfart:  10.7\n",
      "Start- og sluttakselerasjon:  9.81 0.06\n"
     ]
    }
   ],
   "source": [
    "print('Sluttfart: ', round(v[-1], 1))\n",
    "print('Start- og sluttakselerasjon: ', a[0], round(a[-1], 2))\n"
   ]
  },
  {
   "cell_type": "markdown",
   "id": "30c8e09c-18a2-4e8c-822b-89d82bf40958",
   "metadata": {},
   "source": [
    "---"
   ]
  },
  {
   "cell_type": "markdown",
   "id": "22f50774-bb98-4af5-9d7b-7657a8d20457",
   "metadata": {},
   "source": [
    "# Pilotforsøk\n",
    "\n",
    "Det ble gjennomført et pilotforsøk for å se om prosjektet var praktisk gjennomførbart. En micro:bit ble pakket inn i Styrofoam, og sluppet fra en høyde på ca. 7-8 meter. Høyda var alt for lav til at objektet nådde terminalfart, men akselerometerdata fra micro:bit-en stemte godt overens med simulerte data i starten av fallet.\n",
    "\n",
    "Elevene gjennomførte senere en rekke fallforsøk fra større høyder og med objekter som hadde en annen drag-koeffisient enn det som ble brukt i pilotforsøket. Elevforsøkene stemte godt overens med simuleringene.\n",
    "\n",
    "Nedenfor er det vist noen bilder fra pilotforsøket."
   ]
  },
  {
   "cell_type": "markdown",
   "id": "0a37f602-149c-4d16-b7a4-a23ca3cce91f",
   "metadata": {},
   "source": [
    "![Bilde av micro:bits](fall_bilder/IMG_0392.jpeg \"Micro:bits som ble brukt i forsøket\")\n",
    "\n",
    "![Bilde av micro:bit i Styrofoam](fall_bilder/IMG_0394.jpeg \"Micro:bit pakket inn i Styrofoam slippes\")\n",
    "\n",
    "![Bilde av forsøksted](fall_bilder/IMG_0396.jpeg \"Micro:biten ble sluppet her\")\n",
    "\n"
   ]
  },
  {
   "cell_type": "code",
   "execution_count": null,
   "id": "4cd90646-1466-4019-8a96-21f81d2329e1",
   "metadata": {},
   "outputs": [],
   "source": []
  }
 ],
 "metadata": {
  "kernelspec": {
   "display_name": "Python 3 (ipykernel)",
   "language": "python",
   "name": "python3"
  },
  "language_info": {
   "codemirror_mode": {
    "name": "ipython",
    "version": 3
   },
   "file_extension": ".py",
   "mimetype": "text/x-python",
   "name": "python",
   "nbconvert_exporter": "python",
   "pygments_lexer": "ipython3",
   "version": "3.9.7"
  }
 },
 "nbformat": 4,
 "nbformat_minor": 5
}
